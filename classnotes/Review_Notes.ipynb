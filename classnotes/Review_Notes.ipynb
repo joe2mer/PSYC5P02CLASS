{
 "cells": [
  {
   "cell_type": "markdown",
   "id": "33d0a2a8-3227-42b3-bf78-694232b7a51e",
   "metadata": {},
   "source": [
    "## Review Notes"
   ]
  },
  {
   "cell_type": "markdown",
   "id": "0d61d8e9-fa3e-47ef-b1b3-86c867995983",
   "metadata": {},
   "source": [
    "Assignment 1\n",
    "\n",
    "Question 1\n",
    "\n",
    "* read in data\n",
    "__contained within a loop__\n",
    "* calculate mean and SD\n",
    "* calculate upper and lower limits (outlier limits)\n",
    "* find all outliers\n",
    "* were there outliers? if no.... stop if yes.... repeat from mean and SD\n",
    "__contained within a loop__\n",
    "\n"
   ]
  },
  {
   "cell_type": "code",
   "execution_count": 20,
   "id": "69885d3e-8932-4c4c-9a26-a3432d50393e",
   "metadata": {},
   "outputs": [],
   "source": [
    "import statistics, random\n",
    "import numpy as np\n",
    "\n",
    "data = [random.normalvariate(0.7, 0.2,) for i in range(100)] # create list of values\n",
    "\n",
    "threshold = 2.5 #cutoff threshold \n",
    "\n",
    "def trimmMeans(data, Threshold):\n",
    "    \n",
    "    while True:\n",
    "    \n",
    "        cleanedData = []\n",
    "    \n",
    "        mean = statistics.mean(data) # calc mean\n",
    "        sd = statistics.stdev(data) # calc sd \n",
    "\n",
    "        data = np.array(data)\n",
    "        \n",
    "        upper = mean + threshold*sd #calculate limits \n",
    "        lower = mean - threshold*sd \n",
    "        \n",
    "        # remove outliers in loop\n",
    "        cleanedData = cleanedData = data[(data < upper) & (data > lower)]\n",
    "        # for value in data is a loop \n",
    "        # if this condition is true we are going to assign it to cleanedData \n",
    "    \n",
    "        if len(cleanedData) == len(data):\n",
    "            break\n",
    "        else: \n",
    "            data = cleanedData\n",
    "\n",
    "        return cleanedData\n",
    "\n",
    "newData = trimmMeans(data, threshold)\n"
   ]
  },
  {
   "cell_type": "code",
   "execution_count": 21,
   "id": "bfa7be4c-1c67-4bb1-b253-e234eb86fcd6",
   "metadata": {},
   "outputs": [
    {
     "data": {
      "text/plain": [
       "array([0.59261953, 0.78789345, 0.90120255, 0.61215171, 0.64842047,\n",
       "       0.76873308, 0.82209944, 0.69162277, 0.64593899, 0.76716387,\n",
       "       0.6726514 , 0.68266938, 0.94414127, 0.85384557, 0.7886947 ,\n",
       "       0.6622514 , 0.5271423 , 0.70961121, 0.89633906, 0.45731901,\n",
       "       0.56628553, 0.37114612, 0.57995387, 0.71414503, 0.81943652,\n",
       "       0.88962609, 0.79586091, 0.47558419, 0.90177013, 0.89659236,\n",
       "       0.49378442, 0.56783887, 0.43393084, 0.99571507, 0.59771039,\n",
       "       0.47141204, 1.03104243, 0.58355045, 0.58169252, 0.61064232,\n",
       "       0.71150994, 0.71458344, 0.51167057, 1.00991449, 1.024039  ,\n",
       "       1.01886204, 0.76311463, 0.28327557, 0.79264999, 1.08866098,\n",
       "       0.59679014, 1.09101782, 0.48710925, 0.80165175, 1.0950741 ,\n",
       "       0.74284899, 0.39688727, 0.72473416, 0.57529541, 0.84324938,\n",
       "       0.71547694, 0.40997584, 0.96989529, 0.61458642, 0.41868527,\n",
       "       0.75712817, 0.89498463, 0.40815705, 0.93759747, 0.7767897 ,\n",
       "       0.61079006, 0.33667674, 0.50513647, 0.90114136, 0.67771605,\n",
       "       0.55569739, 0.99070558, 0.71722479, 0.63727421, 0.68881966,\n",
       "       0.60448074, 0.56614628, 0.56471599, 0.75695984, 0.85418395,\n",
       "       0.72322041, 0.71704053, 0.56107713, 0.67888012, 0.52319965,\n",
       "       0.57843037, 0.5757707 , 0.84649432, 0.79144733, 0.68188126,\n",
       "       0.75115677, 0.63178554, 0.79673879])"
      ]
     },
     "execution_count": 21,
     "metadata": {},
     "output_type": "execute_result"
    }
   ],
   "source": [
    "newData"
   ]
  },
  {
   "cell_type": "code",
   "execution_count": null,
   "id": "7db010ad-a255-45b4-95e3-ca952d9ca622",
   "metadata": {},
   "outputs": [],
   "source": [
    "import numpy as np \n",
    "\n",
    "remove outliers in numpy slicing \n",
    "cleanedData = data[(data < upper) & (data > lower)]\n",
    "# rather than going through as a loop you are looking at the whole array simultaneously \n",
    "# first data is the original array we are taking everything defined within those brackets \n",
    "\n"
   ]
  },
  {
   "cell_type": "markdown",
   "id": "43e311d2-009a-480a-9396-ac0f5a98b281",
   "metadata": {},
   "source": [
    "Question 2:"
   ]
  },
  {
   "cell_type": "code",
   "execution_count": 33,
   "id": "d1e757b3-97f5-4e1b-b0b9-a209ab96c0cd",
   "metadata": {},
   "outputs": [
    {
     "name": "stdin",
     "output_type": "stream",
     "text": [
      "Please enter a name: Alyssa\n"
     ]
    },
    {
     "name": "stdout",
     "output_type": "stream",
     "text": [
      "Alyssas grade is:81\n"
     ]
    }
   ],
   "source": [
    "names = [\"Alyssa\", \"Rosa\", \"Christine\", \"Holly\", \"Joel\", \"Mimi\"]\n",
    "grades = np.random.randint(71,90, 6)\n",
    "\n",
    "all = [[\"alysaa\", 88], [\"rosa\", 90]]\n",
    "\n",
    "inputName = input(\"Please enter a name:\")\n",
    "\n",
    "idx = names.index(inputName)\n",
    "\n",
    "print(names[idx] + \"s grade is:\" + str(grades[idx]))\n"
   ]
  },
  {
   "cell_type": "code",
   "execution_count": 36,
   "id": "9add45cd-df19-4549-8c9f-24d015caca20",
   "metadata": {},
   "outputs": [
    {
     "name": "stdout",
     "output_type": "stream",
     "text": [
      "Alyssa, grade:81\n",
      "Rosa, grade:89\n",
      "Christine, grade:78\n",
      "Holly, grade:84\n",
      "Joel, grade:84\n",
      "Mimi, grade:72\n"
     ]
    }
   ],
   "source": [
    "for i in range (len(names)):\n",
    "    print(names[i] + ', grade:' + str(grades[i]))"
   ]
  },
  {
   "cell_type": "code",
   "execution_count": 25,
   "id": "1bee7a11-897f-4a57-a0d2-f9f6c96c2c73",
   "metadata": {},
   "outputs": [
    {
     "data": {
      "text/plain": [
       "[['alysaa', 88], ['rosa', 90]]"
      ]
     },
     "execution_count": 25,
     "metadata": {},
     "output_type": "execute_result"
    }
   ],
   "source": [
    "all"
   ]
  },
  {
   "cell_type": "code",
   "execution_count": 26,
   "id": "5225c736-be6e-4584-88c0-56fe517b0702",
   "metadata": {},
   "outputs": [
    {
     "data": {
      "text/plain": [
       "88"
      ]
     },
     "execution_count": 26,
     "metadata": {},
     "output_type": "execute_result"
    }
   ],
   "source": [
    "all[0][1]"
   ]
  },
  {
   "cell_type": "code",
   "execution_count": 29,
   "id": "3216c28d-140e-4e76-abe3-b9e5b1110ee9",
   "metadata": {},
   "outputs": [
    {
     "data": {
      "text/plain": [
       "4"
      ]
     },
     "execution_count": 29,
     "metadata": {},
     "output_type": "execute_result"
    }
   ],
   "source": [
    "names.index(\"Joel\")"
   ]
  },
  {
   "cell_type": "markdown",
   "id": "d0b65e18-5903-4db9-a23e-5a5328ac7829",
   "metadata": {},
   "source": [
    "PsychoPy Notes"
   ]
  },
  {
   "cell_type": "markdown",
   "id": "c467c94d-6053-43db-bfe8-064ebac800c9",
   "metadata": {},
   "source": [
    "from psychopy import visual, core - import packages from psychopy \n",
    "win = visual.Window([400, 400]) - creating a window that is 400 by 400 \n",
    "message = visual.TextStim(win, text ='hello') - creating text for our window, Need to specify the window\n",
    "\n",
    "* can change things applied to the message object. For instance, message.text or message.font\n",
    "\n",
    "win.flip - presents things to the screen \n",
    "\n",
    "* as we draw them on the back buffer to flip them to our display we use win.flip\n",
    "\n",
    "* this is an object not a variable because we are using class to define it\n",
    "* message.autodraw is true for only the message object. To get message2 to show up we would need to draw it\n",
    "* to turn message1 off do message.autodraw = false and then turn on message2 by doing message2.autodraw = true\n",
    "* draw draws something to only one frame. Autodraw draws it to all frames\n",
    "\n",
    "\n",
    "Make a hello message follow a mouse click \n",
    "* make a mouse\n",
    "__loop__\n",
    "* find the mouse position \n",
    "* update text position\n",
    "__loop__\n",
    "\n",
    "*\n"
   ]
  }
 ],
 "metadata": {
  "kernelspec": {
   "display_name": "Python [conda env:base] *",
   "language": "python",
   "name": "conda-base-py"
  },
  "language_info": {
   "codemirror_mode": {
    "name": "ipython",
    "version": 3
   },
   "file_extension": ".py",
   "mimetype": "text/x-python",
   "name": "python",
   "nbconvert_exporter": "python",
   "pygments_lexer": "ipython3",
   "version": "3.13.5"
  }
 },
 "nbformat": 4,
 "nbformat_minor": 5
}
