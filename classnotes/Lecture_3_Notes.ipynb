{
 "cells": [
  {
   "cell_type": "markdown",
   "id": "302417ab-3342-40e3-9c06-b78af9466e4d",
   "metadata": {},
   "source": [
    "# Lecture 3 Notes \n",
    "\n",
    "* there are different types of data. It affects how the information is stored, and the way they interact with other code\n",
    "    * text type which are called \"string\" - str, denoted with quotes\n",
    "    * numeric types \"integer\" - int, nothing extra just the numbers\n",
    "\n",
    "Operators \n",
    "* used to perform operations on variables and values\n",
    "* arithmetic operations operate on number types:b\n",
    "    * +, -, x, /, %\n",
    "        * don't need to elaborate a function\n",
    "     \n",
    "Functions \n",
    "* more elaborate pieces of code that take the form of: name(arguments)\n",
    "\n",
    "Manual in python\n",
    "* use the help function \n",
    "\n",
    "Variables \n",
    "* are placeholders for storing data valuesb\n",
    "* variables are declared using the = character\n",
    "\n",
    "Variable naming\n",
    "* must start with a letter or underscore\n",
    "* can only contain numbers, letters, and underscore\n",
    "* **Cannot** start with a number\n",
    "* is case sensitive\n",
    "* any time you assign a variable it will overwrite the original variable\n",
    "\n",
    "Variables \n",
    "* can use arithmetic options on both integers and strings\n",
    "* type tells us whether the variable is an integer or string\n",
    "\n",
    "Error\n",
    "* when you do something wrong in python it will give you an error code\n",
    "    * name error -> print(myVar)\n",
    "    * syntax error -> 1 + 1:\n",
    "    * directory/path error\n",
    "    * type error -> 'hello world' + x\n",
    "\n",
    "Indexing\n",
    "* first element in a string has an index of 0\n",
    "* string slicing use square brackets. Returns the location of a particular index in that string\n",
    "    * select a particular element\n",
    "* you can also separate values with a colon. This separates the start and end position.\n",
    "* can also add a step value to the end\n",
    "* you can also go the other way\n",
    "* ranges are not inclusive. Meaning when I say 0 to 5. I am saying take the first 5 elements\n",
    "    * hello world\n",
    "    * 012345678910\n",
    "    * -11-10-9-8-7-6-5-4-3-2-1\n",
    "\n",
    "Lists, Tuples, Sets & Dictionaries \n",
    "* lists are created using square brackets\n",
    "* lists contain multiple values\n",
    "* lists are ordered. They have locations. Whiskey has an index of 0, Vodka has an index of 1. When you add to that list it is going to add to the end of the list\n",
    "* lists are changeable. Change cider to tequila.\n",
    "* can also store variables of different data types\n",
    "* my_list.append - adds an extra item to the list\n",
    "* my_list.extend - adds multiple items\n",
    "* my_list.insert - can choose what specific number to index it to\n",
    "* It is possible to have an empty list \n",
    "* tuple is defined with round brackets, list is defined by square brackets\n",
    "* set is defined with curly brackets\n",
    "* dictionary - scores data via key:value pairs. Cannot have the same thing twice\n",
    "\n",
    "If Statements \n",
    "* uses conditionals allowing you to control the flow of a program\n",
    "* booleans - will return a true or false\n",
    "\n",
    "Boolean Values\n",
    "* booleans are expressed by operators\n",
    "* comparison operators: == (is x equal to y), != (not equal to y), >= (greater than or equal), <= (less than)\n",
    "* can have two if statements together by adding \"and\", \"or\", \"and not\".\n",
    "\n",
    "If statements \n",
    "* an if statement begins with if\n",
    "* includes a conditional\n",
    "* must end in a colon, then the rest is tab indented\n",
    "* elif (else if)\n",
    "* most if statements should end with else\n",
    "\n",
    "Match & Case\n",
    "* match is like if\n",
    "\n",
    "can execute bash commands by putting ! \n",
    "\n",
    "\n"
   ]
  },
  {
   "cell_type": "code",
   "execution_count": 7,
   "id": "02857042-cd50-4ead-ba1a-2e907fb2eb70",
   "metadata": {},
   "outputs": [
    {
     "name": "stdout",
     "output_type": "stream",
     "text": [
      "2\n"
     ]
    }
   ],
   "source": [
    "print(1 + 1)"
   ]
  },
  {
   "cell_type": "code",
   "execution_count": 8,
   "id": "108af4e8-a870-4291-8485-751e564f75ce",
   "metadata": {},
   "outputs": [
    {
     "name": "stdout",
     "output_type": "stream",
     "text": [
      "1 + 1\n"
     ]
    }
   ],
   "source": [
    "print('1 + 1')"
   ]
  },
  {
   "cell_type": "code",
   "execution_count": 9,
   "id": "8f8dbb9e-e507-4a60-8bec-db33ddfa9281",
   "metadata": {},
   "outputs": [],
   "source": [
    "x = 1 + 1\n",
    "text = 'hello world'"
   ]
  },
  {
   "cell_type": "code",
   "execution_count": 10,
   "id": "0d2defa4-d7c0-49b8-a92e-234ac521e0b1",
   "metadata": {},
   "outputs": [
    {
     "data": {
      "text/plain": [
       "2"
      ]
     },
     "execution_count": 10,
     "metadata": {},
     "output_type": "execute_result"
    }
   ],
   "source": [
    "x"
   ]
  },
  {
   "cell_type": "code",
   "execution_count": 11,
   "id": "21d7eed2-6fd7-4289-970a-54b03e5948de",
   "metadata": {},
   "outputs": [
    {
     "data": {
      "text/plain": [
       "'hello world'"
      ]
     },
     "execution_count": 11,
     "metadata": {},
     "output_type": "execute_result"
    }
   ],
   "source": [
    "text"
   ]
  },
  {
   "cell_type": "code",
   "execution_count": 12,
   "id": "cbc74ed7-0f48-458d-8f34-747d323f0b5c",
   "metadata": {},
   "outputs": [
    {
     "ename": "SyntaxError",
     "evalue": "invalid syntax (3106739007.py, line 1)",
     "output_type": "error",
     "traceback": [
      "\u001b[1;36m  Cell \u001b[1;32mIn[12], line 1\u001b[1;36m\u001b[0m\n\u001b[1;33m    myVar =\u001b[0m\n\u001b[1;37m            ^\u001b[0m\n\u001b[1;31mSyntaxError\u001b[0m\u001b[1;31m:\u001b[0m invalid syntax\n"
     ]
    }
   ],
   "source": [
    "myVar = "
   ]
  },
  {
   "cell_type": "code",
   "execution_count": 13,
   "id": "c318c704-ba0e-4a7a-be2b-b552317a83a0",
   "metadata": {},
   "outputs": [],
   "source": [
    "a, b, c = 1, 2, 3\n",
    "x = y = z = 10"
   ]
  },
  {
   "cell_type": "code",
   "execution_count": 14,
   "id": "8df03c44-29bd-4b8f-a765-b1303c6c6021",
   "metadata": {},
   "outputs": [
    {
     "data": {
      "text/plain": [
       "1"
      ]
     },
     "execution_count": 14,
     "metadata": {},
     "output_type": "execute_result"
    }
   ],
   "source": [
    "a"
   ]
  },
  {
   "cell_type": "code",
   "execution_count": 15,
   "id": "e246fef7-5806-4461-8332-73df3edb5beb",
   "metadata": {},
   "outputs": [
    {
     "data": {
      "text/plain": [
       "10"
      ]
     },
     "execution_count": 15,
     "metadata": {},
     "output_type": "execute_result"
    }
   ],
   "source": [
    "x"
   ]
  },
  {
   "cell_type": "code",
   "execution_count": 16,
   "id": "516cafa6-7617-4ec7-b6a1-23d2325615eb",
   "metadata": {},
   "outputs": [
    {
     "data": {
      "text/plain": [
       "3"
      ]
     },
     "execution_count": 16,
     "metadata": {},
     "output_type": "execute_result"
    }
   ],
   "source": [
    "a + b"
   ]
  },
  {
   "cell_type": "code",
   "execution_count": 18,
   "id": "798a9e69-5f1c-4a30-a03f-ba03e6848893",
   "metadata": {},
   "outputs": [
    {
     "ename": "TypeError",
     "evalue": "can only concatenate str (not \"int\") to str",
     "output_type": "error",
     "traceback": [
      "\u001b[1;31m---------------------------------------------------------------------------\u001b[0m",
      "\u001b[1;31mTypeError\u001b[0m                                 Traceback (most recent call last)",
      "Cell \u001b[1;32mIn[18], line 1\u001b[0m\n\u001b[1;32m----> 1\u001b[0m \u001b[38;5;124m'\u001b[39m\u001b[38;5;124mhello\u001b[39m\u001b[38;5;124m'\u001b[39m \u001b[38;5;241m+\u001b[39m x\n",
      "\u001b[1;31mTypeError\u001b[0m: can only concatenate str (not \"int\") to str"
     ]
    }
   ],
   "source": [
    "'hello' + x"
   ]
  },
  {
   "cell_type": "code",
   "execution_count": 19,
   "id": "5917939b-9ea4-4f02-bf74-99e25bc07cde",
   "metadata": {},
   "outputs": [
    {
     "data": {
      "text/plain": [
       "'ab'"
      ]
     },
     "execution_count": 19,
     "metadata": {},
     "output_type": "execute_result"
    }
   ],
   "source": [
    "'a' + 'b'"
   ]
  },
  {
   "cell_type": "code",
   "execution_count": 20,
   "id": "87606bf1-f03b-4b4c-af5c-440c24001c12",
   "metadata": {},
   "outputs": [
    {
     "data": {
      "text/plain": [
       "int"
      ]
     },
     "execution_count": 20,
     "metadata": {},
     "output_type": "execute_result"
    }
   ],
   "source": [
    "type(x)"
   ]
  },
  {
   "cell_type": "code",
   "execution_count": 21,
   "id": "06595fcf-5a29-4074-8701-0616123050a1",
   "metadata": {},
   "outputs": [
    {
     "ename": "SyntaxError",
     "evalue": "invalid syntax (2065419873.py, line 1)",
     "output_type": "error",
     "traceback": [
      "\u001b[1;36m  Cell \u001b[1;32mIn[21], line 1\u001b[1;36m\u001b[0m\n\u001b[1;33m    x = 1 + 1:\u001b[0m\n\u001b[1;37m             ^\u001b[0m\n\u001b[1;31mSyntaxError\u001b[0m\u001b[1;31m:\u001b[0m invalid syntax\n"
     ]
    }
   ],
   "source": [
    "x = 1 + 1:"
   ]
  },
  {
   "cell_type": "code",
   "execution_count": 22,
   "id": "b192d0c1-4fcc-46e7-a7f6-8bef1672d266",
   "metadata": {},
   "outputs": [
    {
     "ename": "NameError",
     "evalue": "name 'myVar' is not defined",
     "output_type": "error",
     "traceback": [
      "\u001b[1;31m---------------------------------------------------------------------------\u001b[0m",
      "\u001b[1;31mNameError\u001b[0m                                 Traceback (most recent call last)",
      "Cell \u001b[1;32mIn[22], line 1\u001b[0m\n\u001b[1;32m----> 1\u001b[0m \u001b[38;5;28mprint\u001b[39m(myVar)\n",
      "\u001b[1;31mNameError\u001b[0m: name 'myVar' is not defined"
     ]
    }
   ],
   "source": [
    "print(myVar)"
   ]
  },
  {
   "cell_type": "code",
   "execution_count": 23,
   "id": "50efd828-07fe-4377-9427-ddb979a253cc",
   "metadata": {},
   "outputs": [
    {
     "data": {
      "text/plain": [
       "'C:\\\\Users\\\\joe2m'"
      ]
     },
     "execution_count": 23,
     "metadata": {},
     "output_type": "execute_result"
    }
   ],
   "source": [
    "pwd"
   ]
  },
  {
   "cell_type": "code",
   "execution_count": 24,
   "id": "738c7139-0443-4df0-b472-42a7e93b6793",
   "metadata": {},
   "outputs": [
    {
     "data": {
      "text/plain": [
       "'C:\\\\Users\\\\joe2m'"
      ]
     },
     "execution_count": 24,
     "metadata": {},
     "output_type": "execute_result"
    }
   ],
   "source": [
    "pwd"
   ]
  },
  {
   "cell_type": "code",
   "execution_count": 25,
   "id": "0c40bc6c-410b-44fb-8be8-7e305a328ff2",
   "metadata": {},
   "outputs": [
    {
     "data": {
      "text/plain": [
       "'C:\\\\Users\\\\joe2m'"
      ]
     },
     "execution_count": 25,
     "metadata": {},
     "output_type": "execute_result"
    }
   ],
   "source": [
    "pwd"
   ]
  },
  {
   "cell_type": "code",
   "execution_count": 26,
   "id": "2f128c5c-029d-4117-9d47-6d6dea217b83",
   "metadata": {},
   "outputs": [],
   "source": [
    "myInt = 111"
   ]
  },
  {
   "cell_type": "code",
   "execution_count": 27,
   "id": "6bed8d68-80e3-497d-92ab-07624f406f72",
   "metadata": {},
   "outputs": [
    {
     "ename": "TypeError",
     "evalue": "object of type 'int' has no len()",
     "output_type": "error",
     "traceback": [
      "\u001b[1;31m---------------------------------------------------------------------------\u001b[0m",
      "\u001b[1;31mTypeError\u001b[0m                                 Traceback (most recent call last)",
      "Cell \u001b[1;32mIn[27], line 1\u001b[0m\n\u001b[1;32m----> 1\u001b[0m \u001b[38;5;28mlen\u001b[39m(myInt)\n",
      "\u001b[1;31mTypeError\u001b[0m: object of type 'int' has no len()"
     ]
    }
   ],
   "source": [
    "len(myInt)"
   ]
  },
  {
   "cell_type": "code",
   "execution_count": 28,
   "id": "2843be4a-bfc2-4791-99ce-9dfb8de8ed8a",
   "metadata": {},
   "outputs": [
    {
     "data": {
      "text/plain": [
       "3"
      ]
     },
     "execution_count": 28,
     "metadata": {},
     "output_type": "execute_result"
    }
   ],
   "source": [
    "myString = '111'\n",
    "len(myString)"
   ]
  },
  {
   "cell_type": "code",
   "execution_count": 30,
   "id": "07fcc280-1ccf-4ece-b3bb-4d3b5b044358",
   "metadata": {},
   "outputs": [
    {
     "data": {
      "text/plain": [
       "11"
      ]
     },
     "execution_count": 30,
     "metadata": {},
     "output_type": "execute_result"
    }
   ],
   "source": [
    "newString = \"hello world\"\n",
    "len(newString)"
   ]
  },
  {
   "cell_type": "code",
   "execution_count": 31,
   "id": "bc88da7f-2ad3-435f-b4c2-72180f484ed6",
   "metadata": {},
   "outputs": [
    {
     "data": {
      "text/plain": [
       "'h'"
      ]
     },
     "execution_count": 31,
     "metadata": {},
     "output_type": "execute_result"
    }
   ],
   "source": [
    "newString[0]"
   ]
  },
  {
   "cell_type": "code",
   "execution_count": 32,
   "id": "00f4f200-646a-49be-9dce-cfa433dc146c",
   "metadata": {},
   "outputs": [
    {
     "data": {
      "text/plain": [
       "'ello'"
      ]
     },
     "execution_count": 32,
     "metadata": {},
     "output_type": "execute_result"
    }
   ],
   "source": [
    "newString[1:5]"
   ]
  },
  {
   "cell_type": "code",
   "execution_count": 33,
   "id": "901281d5-2ade-4871-825a-c92755e7b205",
   "metadata": {},
   "outputs": [
    {
     "data": {
      "text/plain": [
       "'el o'"
      ]
     },
     "execution_count": 33,
     "metadata": {},
     "output_type": "execute_result"
    }
   ],
   "source": [
    "newString[1:9:2]"
   ]
  },
  {
   "cell_type": "code",
   "execution_count": 34,
   "id": "a92a58a2-ea57-482d-8cde-9b5af122d29b",
   "metadata": {},
   "outputs": [
    {
     "data": {
      "text/plain": [
       "'drwo'"
      ]
     },
     "execution_count": 34,
     "metadata": {},
     "output_type": "execute_result"
    }
   ],
   "source": [
    "newString[-1:2:-2]"
   ]
  },
  {
   "cell_type": "code",
   "execution_count": 35,
   "id": "8e9d2f57-d78b-44e3-812f-e9f83a4e6281",
   "metadata": {},
   "outputs": [
    {
     "data": {
      "text/plain": [
       "'hello'"
      ]
     },
     "execution_count": 35,
     "metadata": {},
     "output_type": "execute_result"
    }
   ],
   "source": [
    "newString[0:5]"
   ]
  },
  {
   "cell_type": "code",
   "execution_count": 37,
   "id": "7ebf8105-c855-49b3-b0fa-0335e22e865e",
   "metadata": {},
   "outputs": [
    {
     "data": {
      "text/plain": [
       "'world'"
      ]
     },
     "execution_count": 37,
     "metadata": {},
     "output_type": "execute_result"
    }
   ],
   "source": [
    "newString[6:11]"
   ]
  },
  {
   "cell_type": "code",
   "execution_count": 52,
   "id": "13abd5fc-bec5-4db7-9d94-9309f67edbb1",
   "metadata": {},
   "outputs": [
    {
     "data": {
      "text/plain": [
       "'hlowrd'"
      ]
     },
     "execution_count": 52,
     "metadata": {},
     "output_type": "execute_result"
    }
   ],
   "source": [
    "newString[0:11:2]"
   ]
  },
  {
   "cell_type": "code",
   "execution_count": 63,
   "id": "8a14865f-4a3e-4d1d-a7e9-fc8669bc0b65",
   "metadata": {},
   "outputs": [
    {
     "data": {
      "text/plain": [
       "'dlrow olleh'"
      ]
     },
     "execution_count": 63,
     "metadata": {},
     "output_type": "execute_result"
    }
   ],
   "source": [
    "newString[-1:-12:-1]"
   ]
  },
  {
   "cell_type": "code",
   "execution_count": 64,
   "id": "6e61dab7-19ca-4f09-bc39-e0e29d1f0876",
   "metadata": {},
   "outputs": [],
   "source": [
    "drinks = \"whiskey\", \"vodka\", \"lager\", \"cider\""
   ]
  },
  {
   "cell_type": "code",
   "execution_count": 65,
   "id": "66fe53dc-4ba4-445c-aeeb-3731b4d73e36",
   "metadata": {},
   "outputs": [
    {
     "data": {
      "text/plain": [
       "('whiskey', 'vodka', 'lager', 'cider')"
      ]
     },
     "execution_count": 65,
     "metadata": {},
     "output_type": "execute_result"
    }
   ],
   "source": [
    "drinks"
   ]
  },
  {
   "cell_type": "code",
   "execution_count": 66,
   "id": "64954e70-959e-42c5-a0b9-65df4a15bb4f",
   "metadata": {},
   "outputs": [],
   "source": [
    "drinks = \"whiskey\", \"vodka\", \"lager\", \"tequila\""
   ]
  },
  {
   "cell_type": "code",
   "execution_count": 67,
   "id": "a19ccfee-5743-419f-833d-642fd6ca6015",
   "metadata": {},
   "outputs": [],
   "source": [
    "drinks = \"whiskey\", 101 , \"lager\", \"tequila\""
   ]
  },
  {
   "cell_type": "code",
   "execution_count": 68,
   "id": "1bb6c9ef-5d11-4d64-b946-90687c8cab2c",
   "metadata": {},
   "outputs": [
    {
     "data": {
      "text/plain": [
       "('whiskey', 101, 'lager', 'tequila')"
      ]
     },
     "execution_count": 68,
     "metadata": {},
     "output_type": "execute_result"
    }
   ],
   "source": [
    "drinks"
   ]
  },
  {
   "cell_type": "code",
   "execution_count": 70,
   "id": "cd7f946d-e096-498a-a2fe-97e7cb32ab38",
   "metadata": {},
   "outputs": [
    {
     "name": "stdout",
     "output_type": "stream",
     "text": [
      "whiskey\n"
     ]
    }
   ],
   "source": [
    "shots = drinks[0]\n",
    "print(shots)"
   ]
  },
  {
   "cell_type": "code",
   "execution_count": 71,
   "id": "2fd05bd0-330d-4114-aca0-e1592c0e67b9",
   "metadata": {},
   "outputs": [
    {
     "data": {
      "text/plain": [
       "('lager', 'tequila')"
      ]
     },
     "execution_count": 71,
     "metadata": {},
     "output_type": "execute_result"
    }
   ],
   "source": [
    "drinks[2:4]"
   ]
  },
  {
   "cell_type": "code",
   "execution_count": 72,
   "id": "b120d74a-993e-4590-8fa8-786c32a6ff83",
   "metadata": {},
   "outputs": [
    {
     "data": {
      "text/plain": [
       "101"
      ]
     },
     "execution_count": 72,
     "metadata": {},
     "output_type": "execute_result"
    }
   ],
   "source": [
    "drinks[1]"
   ]
  },
  {
   "cell_type": "code",
   "execution_count": 85,
   "id": "69b5d900-a83f-45d6-b5a9-4cbb7155e094",
   "metadata": {},
   "outputs": [],
   "source": [
    "newDrinks = [\"beer\", \"water\"]"
   ]
  },
  {
   "cell_type": "code",
   "execution_count": 87,
   "id": "4318bedc-dd26-4dcc-a8b9-e35c5d37cfbe",
   "metadata": {},
   "outputs": [],
   "source": [
    "x, y = 1, 2"
   ]
  },
  {
   "cell_type": "code",
   "execution_count": 88,
   "id": "8c412a3b-2628-4bfd-b7b9-e21163ab22eb",
   "metadata": {},
   "outputs": [
    {
     "data": {
      "text/plain": [
       "False"
      ]
     },
     "execution_count": 88,
     "metadata": {},
     "output_type": "execute_result"
    }
   ],
   "source": [
    "x == y"
   ]
  },
  {
   "cell_type": "code",
   "execution_count": 96,
   "id": "39ebd170-eb7a-4701-8bff-7ad3a2580dd0",
   "metadata": {},
   "outputs": [
    {
     "name": "stdout",
     "output_type": "stream",
     "text": [
      "a is greater than b\n"
     ]
    }
   ],
   "source": [
    "a = 200\n",
    "b =33\n",
    "if b > a:\n",
    "    print(\"b is greater than a\")\n",
    "elif a == b:\n",
    "    print(\"a and b are equal\")\n",
    "else: \n",
    "    print(\"a is greater than b\")"
   ]
  },
  {
   "cell_type": "code",
   "execution_count": 97,
   "id": "edd173a9-8d2b-454a-adaf-68e6617db128",
   "metadata": {},
   "outputs": [
    {
     "name": "stdin",
     "output_type": "stream",
     "text": [
      "enter your name:  Joseph\n"
     ]
    }
   ],
   "source": [
    "name = input(\"enter your name: \")"
   ]
  },
  {
   "cell_type": "code",
   "execution_count": 98,
   "id": "cc1cc8ff-396a-4b5d-ae47-6cfecc6a7c4e",
   "metadata": {},
   "outputs": [
    {
     "data": {
      "text/plain": [
       "'Joseph'"
      ]
     },
     "execution_count": 98,
     "metadata": {},
     "output_type": "execute_result"
    }
   ],
   "source": [
    "name"
   ]
  },
  {
   "cell_type": "code",
   "execution_count": 102,
   "id": "e05b7dda-382c-44f5-aaf1-1ed6d3424e82",
   "metadata": {},
   "outputs": [
    {
     "name": "stdin",
     "output_type": "stream",
     "text": [
      "enter your name:  jojo\n"
     ]
    },
    {
     "name": "stdout",
     "output_type": "stream",
     "text": [
      "Social\n"
     ]
    }
   ],
   "source": [
    "name = input(\"enter your name: \")\n",
    "if len(name) > 6:\n",
    "    print(\"LS\")\n",
    "elif len(name) == 6:\n",
    "    print(\"BCN\")\n",
    "else:\n",
    "    print(\"Social\")"
   ]
  },
  {
   "cell_type": "code",
   "execution_count": null,
   "id": "a4497fc1-da92-419b-8c24-a83415ff8b57",
   "metadata": {},
   "outputs": [],
   "source": []
  }
 ],
 "metadata": {
  "kernelspec": {
   "display_name": "Python [conda env:base] *",
   "language": "python",
   "name": "conda-base-py"
  },
  "language_info": {
   "codemirror_mode": {
    "name": "ipython",
    "version": 3
   },
   "file_extension": ".py",
   "mimetype": "text/x-python",
   "name": "python",
   "nbconvert_exporter": "python",
   "pygments_lexer": "ipython3",
   "version": "3.13.5"
  }
 },
 "nbformat": 4,
 "nbformat_minor": 5
}
