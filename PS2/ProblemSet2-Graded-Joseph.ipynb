{
 "cells": [
  {
   "cell_type": "markdown",
   "id": "6a5456ba",
   "metadata": {},
   "source": [
    "# PSYC 5P02- Introduction to Programming for Psychology\n",
    "## Fall 2025\n",
    "\n",
    "### Problem Set #2 - Grading Rubric\n",
    "\n",
    "### Assigned September 25 - Due October 2\n",
    "### Late Penalty: 5%/day\n",
    "\n",
    "\n",
    "### Rubric:\n",
    "* Accuracy & Efficiency: 50%\n",
    "* Explaination and documentation: 50%\n",
    "\n",
    "---"
   ]
  },
  {
   "cell_type": "markdown",
   "id": "7eda2849",
   "metadata": {},
   "source": [
    "**Question 1:**\n",
    "\n",
    "_(a)_ Generate 100 normally distributed values with a mean of 0.7 and a standard deviation of .2. (/2)"
   ]
  },
  {
   "cell_type": "code",
   "execution_count": 2,
   "id": "92543f2e",
   "metadata": {},
   "outputs": [],
   "source": [
    "import numpy as np \n",
    "\n",
    "rng = np.random.default_rng() # this functions as a random number generator that will be used to create our 100 normally distributed values. https://realpython.com/numpy-random-number-generator/\n",
    "                              # this is used over np.random.normal because it has better statistical properties. https://stackoverflow.com/questions/73914284/what-is-the-difference-between-np-random-default-rng-normalmu-sigma-1000-a\n",
    "\n",
    "values = rng.normal(0.7, 0.2, 100) # this creates our 100 normally distributed values with a mean of 0.7 and a standard deviation of 0.2"
   ]
  },
  {
   "cell_type": "markdown",
   "id": "19131ca5",
   "metadata": {},
   "source": [
    "**Comments:**\n",
    "- good work. \n",
    "- Code 2/2, documentation 2/2 **4/4**"
   ]
  },
  {
   "cell_type": "markdown",
   "id": "a13e5e64",
   "metadata": {},
   "source": [
    "_(b)_ Create a function that calculates the mean and standard deviation some list of values, and remove any values that exceed 2.5 SDs of the mean, recursively, until there are no outliers to remove. **Note:** The numbers to be trimmed should be an argument passed to the function. (/10)"
   ]
  },
  {
   "cell_type": "code",
   "execution_count": 4,
   "id": "fc7c27a8",
   "metadata": {},
   "outputs": [],
   "source": [
    "def exclude_outliers(values):\n",
    "    cutoff = 2.5 # of standard deviations away from the mean we are using as our cutoff \n",
    "    original_length = len(values) # We want to make a variable to keep track of the amount of values we have before excluding any outliers. This will be used later when we are returning the number of outliers excluded.\n",
    "    previous_length = original_length # We want to create a variable called previous_length, to preserve original_length. This is because with each iteration of the loop, previous_length is overwritten. Additionally, this variable will be used to break out of our loop. \n",
    "    \n",
    "\n",
    "    while True: # A \"while\" loop is used to ensure we run through as many times necessary to remove all outliers \n",
    "        mean, std = values.mean(), values.std() # this is done to calculate the mean and standard deviation\n",
    "        upper, lower = mean + std*cutoff, mean - std*cutoff # this is done to calculate our upper and lower limits that are 2.5 standard deviations away\n",
    "        values = values[(values > lower) & (values < upper)] # this is done to update our values array to include only those that are within the upper and lower limits. The reason we include values on both the left and right side is to ensure that it is updated with each iteration of the loop. If this is not done then we will not be able to continually remove outliers as we are not updating the values array accordingly.\n",
    "\n",
    "        if previous_length == len(values): # this is done to break out of the loop once the outliers are removed. \"if previous_length is equal to the current length of values, break\"\n",
    "            break\n",
    "        else:\n",
    "            previous_length = len(values) # this is done to update our previous_length to be equal to the current length of values. \"else update previous_length to be equal to the current length \n",
    "\n",
    "    return mean, std, original_length - len(values) # this outputs the updated mean, standard deviation, and the number of outliers \n",
    "        \n",
    " # I used this video to assist me: https://www.youtube.com/watch?v=KFuEAGR3HS4       "
   ]
  },
  {
   "cell_type": "markdown",
   "id": "45a6b3d1",
   "metadata": {},
   "source": [
    "**Comments:**\n",
    "- Looks good. Clean and efficient. \n",
    "- Yyour description of the line ``values = values[(values > lower) & (values < upper)]`` is a little confusing, as that's not the thing causing it to loop. Also, it's a form of slicing that we haven't really used before. If you're using a new kind of syntax be sure to explain what you're doing. \n",
    "- code: 5/5, documentation 3/5, **total: 8/10**"
   ]
  },
  {
   "cell_type": "markdown",
   "id": "137f3b2c",
   "metadata": {},
   "source": [
    "_(c)_ Apply the function created in _(b)_ to the the list of 100 numbers you generated in _(a)_. Produce the mean, SD, and number of outliers removed by the procedure. (/4)"
   ]
  },
  {
   "cell_type": "code",
   "execution_count": 5,
   "id": "a835e011",
   "metadata": {},
   "outputs": [
    {
     "data": {
      "text/plain": [
       "(0.720708906067862, 0.19525649027520275, 0)"
      ]
     },
     "execution_count": 5,
     "metadata": {},
     "output_type": "execute_result"
    }
   ],
   "source": [
    "exclude_outliers(values)\n",
    "                             # Prints the final standard deviation of the cleaned list"
   ]
  },
  {
   "cell_type": "markdown",
   "id": "384e9f27",
   "metadata": {},
   "source": [
    "**comments:**\n",
    "- The function is supposed to return the values, but you haven't assigned them to anything. You also haven't provided any indication of what the different values are. \n",
    "- code: 1/2, documentation: 1/2 **total: 2/4**\n",
    "\n",
    "**Question 1 total: 14/18**"
   ]
  },
  {
   "cell_type": "markdown",
   "id": "a138ffb4",
   "metadata": {},
   "source": [
    "**Question 2:** \n",
    "\n",
    "*(a)* Create a list with 10 names of hypothetical students (use only lists for now). Create a second list of 10 theoretical grades between 76 and 100. Assume the order of the grades is the same order of the list of names."
   ]
  },
  {
   "cell_type": "code",
   "execution_count": 6,
   "id": "2e193c8a",
   "metadata": {},
   "outputs": [],
   "source": [
    "names = [\"joseph\", \"eryka\", \"hannah\", \"ariel\", \"mimi\", \"malavika\", \"makenna\", \"erin\", \"steve\", \"bob\"] # creating a list of names\n",
    "\n",
    "grades = [76, 82, 86, 91, 78, 81, 88, 94, 100, 79] # creating a list of grades \n"
   ]
  },
  {
   "cell_type": "markdown",
   "id": "f4bb550e",
   "metadata": {},
   "source": [
    "**Commnents:**\n",
    "- Why not create the grades using the randomization functions? \n",
    "- code 1/2, documentation 2/2. **total: 3/4**"
   ]
  },
  {
   "cell_type": "markdown",
   "id": "4dadfce7",
   "metadata": {},
   "source": [
    "*(b)* Write a script that loops through each of the students, and then return's their letter grade based on this convention:\n",
    "\n",
    "* A+: >=90\n",
    "* 85 >= A <90\n",
    "* 80 >= A- <85\n",
    "* 76 >= B+ < 80\n",
    "\n",
    "(/6)"
   ]
  },
  {
   "cell_type": "code",
   "execution_count": 7,
   "id": "6ac18e62",
   "metadata": {},
   "outputs": [
    {
     "name": "stdout",
     "output_type": "stream",
     "text": [
      "joseph B+\n",
      "eryka A-\n",
      "hannah A\n",
      "ariel A+\n",
      "mimi B+\n",
      "malavika A-\n",
      "makenna A\n",
      "erin A+\n",
      "steve A+\n",
      "bob B+\n"
     ]
    }
   ],
   "source": [
    "for name, grade in zip(names, grades): # uses the variable name and grade which is defined as the values recorded in the names and grades list. The zip function combines the lists to create a pair (https://linuxhint.com/concatenate-lists-python/). As this is a \"for\" loop this will run a set number of times. In this case the number of times is equal to the number of names and grades in the lists. \n",
    "    if grade >= 90: # if a student's grade is greater than 90 print their name along with the letter grade A+\n",
    "        print(name, \"A+\")\n",
    "    elif 85 <= grade < 90: # else if a student's grade is greater or equal to 85, but less than 90, print their name along with the letter grade A\n",
    "        print(name, \"A\")\n",
    "    elif 80 <= grade < 85: # else if a student's grade is greater or equal to 80, but less than 85, print their name along with the letter grade A-\n",
    "        print(name, \"A-\")\n",
    "    elif 76 <= grade < 80: # else if a student's grade is greater or equal to 76, but less than 80, print their name along with the letter grade B+\n",
    "        print(name, \"B+\")"
   ]
  },
  {
   "cell_type": "markdown",
   "id": "9dc46994",
   "metadata": {},
   "source": [
    "**Comments:**\n",
    "- Clean. Works. Good use of the elif statents.\n",
    "- code: 3/3, documentation: 3/3, **total: 6/6**\n",
    "\n",
    "**Question 2 total: 9/10**"
   ]
  },
  {
   "cell_type": "markdown",
   "id": "c13480ea",
   "metadata": {},
   "source": [
    "**Question 3:**\tWrite a function called ‘gradeLookup’ that takes, as an input from the user, a student’s name. Then  look up the info based on Question 2, and write to the command window the student’s name, numerical grade, and letter grade. \n",
    "\n",
    "**Bonus:** Can you figure out a way to ensure that the name entered is one that exists in the list?? "
   ]
  },
  {
   "cell_type": "code",
   "execution_count": 9,
   "id": "82a72de1",
   "metadata": {},
   "outputs": [
    {
     "name": "stdout",
     "output_type": "stream",
     "text": [
      "please enter a namejoseph\n",
      "joseph 76 B+\n"
     ]
    }
   ],
   "source": [
    "def gradeLookup(): # first we create the function for gradeLookup\n",
    "    lookup = input(\"please enter a name\") # use the input function, allowing us to input the name of the student \n",
    "    for name, grade in zip(names, grades):# uses the variable name and grade which is defined as the values recorded in the names and grades list. The zip function combines iterables to create a pair (https://linuxhint.com/concatenate-lists-python/). As this is a \"for\" loop this will run a set number of times. In this case the number of times is equal to the number of names and grades in the lists. \n",
    "        if name == lookup: # this is done to ensure that when we enter a name into the lookup variable we return the specified name we are looking for in the names list. \"if name is equal to the name inputted in lookup, continue to the next if statement to determine if it is also true\" (https://www.geeksforgeeks.org/python/nested-if-statement-in-python/).\n",
    "            if grade >= 90: # if a student's grade is greater than 90 print their name along with the numerical grade and letter grade A+\n",
    "                print(name, grade, \"A+\")\n",
    "            elif 85 <= grade < 90: # else if a student's grade is greater or equal to 85, but less than 90, print their name along with the numerical grade and letter grade A\n",
    "                print(name, grade, \"A\")\n",
    "            elif 80 <= grade < 85: # else if a student's grade is greater or equal to 80, but less than 85, print their name along with the numerical grade and letter grade A-\n",
    "                print(name, grade, \"A-\")\n",
    "            elif 76 <= grade < 80: # else if a student's grade is greater or equal to 76, but less than 80, print their name along with the numerical grade and letter grade B+\n",
    "                print(name, grade, \"B+\")\n",
    "\n",
    "gradeLookup()"
   ]
  },
  {
   "cell_type": "markdown",
   "id": "f2824cb7",
   "metadata": {},
   "source": [
    "**Comments:**\n",
    "- Good. Only thing is that it assumes the existence of the variables _names_ and _grades_. Why not pass them as arguments?\n",
    "- code: 2/3, documentation: 3/3, **total: 5/6**"
   ]
  },
  {
   "cell_type": "markdown",
   "id": "a90071a5",
   "metadata": {},
   "source": [
    "**Question 4:** Write a Python class called PersonalityProfile that stores a participant’s scores on each of the Big Five traits (Openness, Conscientiousness, Agreeableness, Extraversion, Neuroticism) on a scale from 1–5.\n",
    "\n",
    "Your class should include:\n",
    "\n",
    "An \\_\\_init\\_\\_ method that initializes the five traits, as well as the participant number.\n",
    "\n",
    "A method _is_introvert()_ that returns True if the participant’s Extraversion score is less than 3, and False otherwise (feel free to make a similar method for all 5 traits).\n",
    "\n",
    "**Bonus:** Create a method called _summary()_ that returns a string describing the participant’s strongest trait (the one with the highest score).\n"
   ]
  },
  {
   "cell_type": "code",
   "execution_count": 14,
   "id": "60626184",
   "metadata": {},
   "outputs": [],
   "source": [
    "class personalityprofile: # creating a class called personality profile that stores a participant's score on each of the Big Five Traits\n",
    "    def __init__(self, participantnumber, openness, conscientiousness, agreeableness, extraversion, neuroticism): #initializing attributes of a class. In this case participant number, openness, conscientiousness, agreeableness, extraversion, and neuroticism.\n",
    "        self.participantnumber = participantnumber # creating object attributes that store values. In this case each object attribute defined here will store optional inputs \n",
    "        self.openness = openness \n",
    "        self.conscientiousness = conscientiousness \n",
    "        self.agreeableness = agreeableness\n",
    "        self.extraversion = extraversion \n",
    "        self.neuroticism = neuroticism \n",
    "\n",
    "# creating methods. These are functions that belong to the class \n",
    "\n",
    "    def is_closedness(self): # function that returns true if participant's openness score is less than 3, and false otherwise \n",
    "        if self.openness < 3: # if openess is less than 3 return true, else return false \n",
    "            return(\"true\")\n",
    "        else:\n",
    "            return(\"false\")\n",
    "\n",
    "    def is_unconscientiousness(self): # function that returns true if participant's conscientiousness score is less than 3, and false otherwise\n",
    "        if self.conscientiousness < 3: # if conscientiousness is less than 3 return true, else return false \n",
    "            return(\"true\")\n",
    "        else:\n",
    "            return(\"false\")\n",
    "\n",
    "    def is_disagreeableness(self): # function that returns true if participant's agreeableness score is less than 3, and false otherwise\n",
    "        if self.agreeableness < 3: # if agreeableness is less than 3 return true, else return false \n",
    "            return(\"true\")\n",
    "        else:\n",
    "            return(\"false\")\n",
    "\n",
    "    def is_introvert(self): # function that returns true if participant's extraversion score is less than 3, and false otherwise \n",
    "        if self.extraversion < 3: # if extraversion is less than 3 return true, else return false \n",
    "            return(\"true\")\n",
    "        else:\n",
    "            return(\"false\")\n",
    "\n",
    "    def is_emotionallystable(self): # function that returns true if participant's neuroticism score is less than 3, and false otherwise \n",
    "        if self.neuroticism < 3: # if neuroticism is less than 3 return true, else return false \n",
    "            return(\"true\")\n",
    "        else:\n",
    "            return(\"false\")\n",
    "\n",
    "# I used the following resources: https://www.w3schools.com/python/python_classes.asp, https://www.geeksforgeeks.org/python/self-in-python-class/\n"
   ]
  },
  {
   "cell_type": "code",
   "execution_count": 17,
   "id": "8b3704d0",
   "metadata": {},
   "outputs": [
    {
     "data": {
      "text/plain": [
       "'false'"
      ]
     },
     "execution_count": 17,
     "metadata": {},
     "output_type": "execute_result"
    }
   ],
   "source": [
    "p1 = personalityprofile(101, 5, 3, 2, 4, 1) # creating a participant profile\n",
    "\n"
   ]
  },
  {
   "cell_type": "markdown",
   "id": "64bbf475",
   "metadata": {},
   "source": [
    "**Comments:**\n",
    "- Good work. Works as expected.\n",
    "- code: 4/4, documentation, 4/4, **total: 8/8**"
   ]
  },
  {
   "cell_type": "markdown",
   "id": "1cb77e7c",
   "metadata": {},
   "source": [
    "**Total grade: 32/38**"
   ]
  },
  {
   "cell_type": "code",
   "execution_count": null,
   "id": "3c999eb5",
   "metadata": {},
   "outputs": [],
   "source": []
  }
 ],
 "metadata": {
  "kernelspec": {
   "display_name": "Python 3",
   "language": "python",
   "name": "python3"
  },
  "language_info": {
   "codemirror_mode": {
    "name": "ipython",
    "version": 3
   },
   "file_extension": ".py",
   "mimetype": "text/x-python",
   "name": "python",
   "nbconvert_exporter": "python",
   "pygments_lexer": "ipython3",
   "version": "3.8.8"
  }
 },
 "nbformat": 4,
 "nbformat_minor": 5
}
