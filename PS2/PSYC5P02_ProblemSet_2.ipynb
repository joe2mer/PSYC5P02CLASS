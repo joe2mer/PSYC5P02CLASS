{
 "cells": [
  {
   "cell_type": "markdown",
   "id": "4a2bde80-634a-48e2-839c-f3fcf010ca61",
   "metadata": {},
   "source": [
    "__Question 1:__\n",
    "\n",
    "(a) Generate 100 normally distributed values with a mean of 0.7 and a standard deviation of .2."
   ]
  },
  {
   "cell_type": "code",
   "execution_count": 18,
   "id": "d3be0e65-00ad-41cb-ad83-efb6e720f16c",
   "metadata": {},
   "outputs": [],
   "source": [
    "import numpy as np \n",
    "\n",
    "rng = np.random.default_rng() # this functions as a random number generator that will be used to create our 100 normally distributed values. https://realpython.com/numpy-random-number-generator/\n",
    "                              # this is used over np.random.normal because it has better statistical properties. https://stackoverflow.com/questions/73914284/what-is-the-difference-between-np-random-default-rng-normalmu-sigma-1000-a\n",
    "\n",
    "values = rng.normal(0.7, 0.2, 100) # this creates our 100 normally distributed values with a mean of 0.7 and a standard deviation of 0.2"
   ]
  },
  {
   "cell_type": "code",
   "execution_count": 19,
   "id": "f48a0528-6a37-4ad1-9c9e-1b998f986ff6",
   "metadata": {},
   "outputs": [
    {
     "data": {
      "text/plain": [
       "np.float64(0.6939022156504108)"
      ]
     },
     "execution_count": 19,
     "metadata": {},
     "output_type": "execute_result"
    }
   ],
   "source": [
    "values.mean()"
   ]
  },
  {
   "cell_type": "code",
   "execution_count": 20,
   "id": "3b64d693-9b16-4568-9ab4-b7272b9c8040",
   "metadata": {},
   "outputs": [
    {
     "data": {
      "text/plain": [
       "np.float64(0.2063895791386938)"
      ]
     },
     "execution_count": 20,
     "metadata": {},
     "output_type": "execute_result"
    }
   ],
   "source": [
    "values.std()"
   ]
  },
  {
   "cell_type": "markdown",
   "id": "0e17936e-2234-4b29-8bb6-ed319f4abfe9",
   "metadata": {},
   "source": [
    "(b) Create a function that calculates the mean and standard deviation some list of values, and remove any values that exceed 2.5 SDs of the mean, recursively, until there are no outliers to remove. __Note:__ The numbers to be trimmed should be an argument passed to the function."
   ]
  },
  {
   "cell_type": "code",
   "execution_count": 21,
   "id": "7835aaf7-b0d2-4eee-b35f-4576a8feffed",
   "metadata": {},
   "outputs": [],
   "source": [
    "def exclude_outliers(values):\n",
    "    cutoff = 2.5 # of standard deviations away from the mean we are using as our cutoff \n",
    "    original_length = len(values) # We want to make a variable to keep track of the amount of values we have before excluding any outliers. This will be used later when we are returning the number of outliers excluded.\n",
    "    previous_length = original_length # We want to create a variable called previous_length, to preserve original_length. This is because with each iteration of the loop, previous_length is overwritten. Additionally, this variable will be used to break out of our loop. \n",
    "    \n",
    "\n",
    "    while True: # A \"while\" loop is used to ensure we run through as many times necessary to remove all outliers \n",
    "        mean, std = values.mean(), values.std() # this is done to calculate the mean and standard deviation\n",
    "        upper, lower = mean + std*cutoff, mean - std*cutoff # this is done to calculate our upper and lower limits that are 2.5 standard deviations away\n",
    "        values = values[(values > lower) & (values < upper)] # this is done to update our values array to include only those that are within the upper and lower limits. The reason we include values on both the left and right side is to ensure that it is updated with each iteration of the loop. If this is not done then we will not be able to continually remove outliers as we are not updating the values array accordingly.\n",
    "\n",
    "        if previous_length == len(values): # this is done to break out of the loop once the outliers are removed. \"if previous_length is equal to the current length of values, break\"\n",
    "            break\n",
    "        else:\n",
    "            previous_length = len(values) # this is done to update our previous_length to be equal to the current length of values. \"else update previous_length to be equal to the current length \n",
    "\n",
    "    return mean, std, original_length - len(values) # this outputs the updated mean, standard deviation, and the number of outliers \n",
    "        \n",
    " # I used this video to assist me: https://www.youtube.com/watch?v=KFuEAGR3HS4       \n",
    "    "
   ]
  },
  {
   "cell_type": "markdown",
   "id": "d438a7dc-c149-4717-8670-70378d23b392",
   "metadata": {},
   "source": [
    "(c) Apply the function created in (b) to the the list of 100 numbers you generated in (a). Produce the mean, SD, and number of outliers removed by the procedure."
   ]
  },
  {
   "cell_type": "code",
   "execution_count": 22,
   "id": "1284872c-362c-481d-8613-afe509ec4e2d",
   "metadata": {},
   "outputs": [
    {
     "data": {
      "text/plain": [
       "(np.float64(0.695074188723804), np.float64(0.18216103511863474), 4)"
      ]
     },
     "execution_count": 22,
     "metadata": {},
     "output_type": "execute_result"
    }
   ],
   "source": [
    "exclude_outliers(values)"
   ]
  },
  {
   "cell_type": "markdown",
   "id": "f35d593c-cfb2-4b93-b78b-7c9ee58c6bce",
   "metadata": {},
   "source": [
    "__Question 2:__\n",
    "\n",
    "(a) Create a list with 10 names of hypothetical students (use only lists for now). Create a second list of 10 theoretical grades between 76 and 100. Assume the order of the grades is the same order of the list of names."
   ]
  },
  {
   "cell_type": "code",
   "execution_count": 23,
   "id": "d5142374-08ab-46ad-bdbe-2e95f783ce2b",
   "metadata": {},
   "outputs": [],
   "source": [
    "names = [\"joseph\", \"eryka\", \"hannah\", \"ariel\", \"mimi\", \"malavika\", \"makenna\", \"erin\", \"steve\", \"bob\"] # creating a list of names"
   ]
  },
  {
   "cell_type": "code",
   "execution_count": 24,
   "id": "2fda9b5a-8497-48b1-bdd4-198eb3a55c23",
   "metadata": {},
   "outputs": [],
   "source": [
    "grades = [76, 82, 86, 91, 78, 81, 88, 94, 100, 79] # creating a list of grades "
   ]
  },
  {
   "cell_type": "markdown",
   "id": "37c9a2e4-dbb6-4562-8d61-1bd04f3deda2",
   "metadata": {},
   "source": [
    "(b) Write a script that loops through each of the students, and then return's their letter grade based on this convention:\n",
    "\n",
    "* A+: >=90\n",
    "* 85 >= A <90\n",
    "* 80 >= A- <85\n",
    "* 76 >= B+ < 80"
   ]
  },
  {
   "cell_type": "code",
   "execution_count": 26,
   "id": "48006bf5-91ee-46a5-b226-ad45ab762703",
   "metadata": {},
   "outputs": [
    {
     "name": "stdout",
     "output_type": "stream",
     "text": [
      "joseph B+\n",
      "eryka A-\n",
      "hannah A\n",
      "ariel A+\n",
      "mimi B+\n",
      "malavika A-\n",
      "makenna A\n",
      "erin A+\n",
      "steve A+\n",
      "bob B+\n"
     ]
    }
   ],
   "source": [
    "for name, grade in zip(names, grades): # uses the variable name and grade which is defined as the values recorded in the names and grades list. The zip function combines the lists to create a pair (https://linuxhint.com/concatenate-lists-python/). As this is a \"for\" loop this will run a set number of times. In this case the number of times is equal to the number of names and grades in the lists. \n",
    "    if grade >= 90: # if a student's grade is greater than 90 print their name along with the letter grade A+\n",
    "        print(name, \"A+\")\n",
    "    elif 85 <= grade < 90: # else if a student's grade is greater or equal to 85, but less than 90, print their name along with the letter grade A\n",
    "        print(name, \"A\")\n",
    "    elif 80 <= grade < 85: # else if a student's grade is greater or equal to 80, but less than 85, print their name along with the letter grade A-\n",
    "        print(name, \"A-\")\n",
    "    elif 76 <= grade < 80: # else if a student's grade is greater or equal to 76, but less than 80, print their name along with the letter grade B+\n",
    "        print(name, \"B+\")"
   ]
  },
  {
   "cell_type": "markdown",
   "id": "7abfac38-9761-4995-883d-1203027a0b77",
   "metadata": {},
   "source": [
    "__Question 3:__ Write a function called ‘gradeLookup’ that takes, as an input from the user, a student’s name. Then look up the info based on Question 2, and write to the command window the student’s name, numerical grade, and letter grade."
   ]
  },
  {
   "cell_type": "code",
   "execution_count": 28,
   "id": "9653455b-65cb-45a0-b846-5dc796d3b69d",
   "metadata": {},
   "outputs": [
    {
     "name": "stdin",
     "output_type": "stream",
     "text": [
      "please enter a name joseph\n"
     ]
    },
    {
     "name": "stdout",
     "output_type": "stream",
     "text": [
      "joseph 76 B+\n"
     ]
    }
   ],
   "source": [
    "def gradeLookup(): # first we create the function for gradeLookup\n",
    "    lookup = input(\"please enter a name\") # use the input function, allowing us to input the name of the student \n",
    "    for name, grade in zip(names, grades):# uses the variable name and grade which is defined as the values recorded in the names and grades list. The zip function combines iterables to create a pair (https://linuxhint.com/concatenate-lists-python/). As this is a \"for\" loop this will run a set number of times. In this case the number of times is equal to the number of names and grades in the lists. \n",
    "        if name == lookup: # this is done to ensure that when we enter a name into the lookup variable we return the specified name we are looking for in the names list. \"if name is equal to the name inputted in lookup, continue to the next if statement to determine if it is also true\" (https://www.geeksforgeeks.org/python/nested-if-statement-in-python/).\n",
    "            if grade >= 90: # if a student's grade is greater than 90 print their name along with the numerical grade and letter grade A+\n",
    "                print(name, grade, \"A+\")\n",
    "            elif 85 <= grade < 90: # else if a student's grade is greater or equal to 85, but less than 90, print their name along with the numerical grade and letter grade A\n",
    "                print(name, grade, \"A\")\n",
    "            elif 80 <= grade < 85: # else if a student's grade is greater or equal to 80, but less than 85, print their name along with the numerical grade and letter grade A-\n",
    "                print(name, grade, \"A-\")\n",
    "            elif 76 <= grade < 80: # else if a student's grade is greater or equal to 76, but less than 80, print their name along with the numerical grade and letter grade B+\n",
    "                print(name, grade, \"B+\")\n",
    "\n",
    "gradeLookup()"
   ]
  },
  {
   "cell_type": "markdown",
   "id": "00dd7252-a6ab-462c-885b-25c169ea0d1b",
   "metadata": {},
   "source": [
    "__Question 4:__ Write a Python class called PersonalityProfile that stores a participant’s scores on each of the Big Five traits (Openness, Conscientiousness, Agreeableness, Extraversion, Neuroticism) on a scale from 1–5.\n",
    "\n",
    "Your class should include:\n",
    "\n",
    "An __init__ method that initializes the five traits, as well as the participant number.\n",
    "\n",
    "A method is_introvert() that returns True if the participant’s Extraversion score is less than 3, and False otherwise (feel free to make a similar method for all 5 traits)."
   ]
  },
  {
   "cell_type": "code",
   "execution_count": 46,
   "id": "ec4267ba-87c8-4b46-b796-452d08267969",
   "metadata": {},
   "outputs": [],
   "source": [
    "class personalityprofile: # creating a class called personality profile that stores a participant's score on each of the Big Five Traits\n",
    "    def __init__(self, participantnumber, openness, conscientiousness, agreeableness, extraversion, neuroticism): #initializing attributes of a class. In this case participant number, openness, conscientiousness, agreeableness, extraversion, and neuroticism.\n",
    "        self.participantnumber = participantnumber # creating object attributes that store values. In this case each object attribute defined here will store optional inputs \n",
    "        self.openness = openness \n",
    "        self.conscientiousness = conscientiousness \n",
    "        self.agreeableness = agreeableness\n",
    "        self.extraversion = extraversion \n",
    "        self.neuroticism = neuroticism \n",
    "\n",
    "# creating methods. These are functions that belong to the class \n",
    "\n",
    "    def is_closedness(self): # function that returns true if participant's openness score is less than 3, and false otherwise \n",
    "        if self.openness < 3: # if openess is less than 3 return true, else return false \n",
    "            return(\"true\")\n",
    "        else:\n",
    "            return(\"false\")\n",
    "\n",
    "    def is_unconscientiousness(self): # function that returns true if participant's conscientiousness score is less than 3, and false otherwise\n",
    "        if self.conscientiousness < 3: # if conscientiousness is less than 3 return true, else return false \n",
    "            return(\"true\")\n",
    "        else:\n",
    "            return(\"false\")\n",
    "\n",
    "    def is_disagreeableness(self): # function that returns true if participant's agreeableness score is less than 3, and false otherwise\n",
    "        if self.agreeableness < 3: # if agreeableness is less than 3 return true, else return false \n",
    "            return(\"true\")\n",
    "        else:\n",
    "            return(\"false\")\n",
    "\n",
    "    def is_introvert(self): # function that returns true if participant's extraversion score is less than 3, and false otherwise \n",
    "        if self.extraversion < 3: # if extraversion is less than 3 return true, else return false \n",
    "            return(\"true\")\n",
    "        else:\n",
    "            return(\"false\")\n",
    "\n",
    "    def is_emotionallystable(self): # function that returns true if participant's neuroticism score is less than 3, and false otherwise \n",
    "        if self.neuroticism < 3: # if neuroticism is less than 3 return true, else return false \n",
    "            return(\"true\")\n",
    "        else:\n",
    "            return(\"false\")\n",
    "\n",
    "# I used the following resources: https://www.w3schools.com/python/python_classes.asp, https://www.geeksforgeeks.org/python/self-in-python-class/\n",
    "\n",
    "        "
   ]
  },
  {
   "cell_type": "code",
   "execution_count": 33,
   "id": "8f92e25d-cd91-45ea-8e2d-77ce4da7afc1",
   "metadata": {},
   "outputs": [],
   "source": [
    "p1 = personalityprofile(101, 5, 3, 2, 4, 1) # creating a participant profile"
   ]
  },
  {
   "cell_type": "code",
   "execution_count": 36,
   "id": "3d1e04be-e185-4de0-a39a-206627da73d3",
   "metadata": {},
   "outputs": [
    {
     "name": "stdout",
     "output_type": "stream",
     "text": [
      "false\n"
     ]
    }
   ],
   "source": [
    "p1.is_closedness()"
   ]
  },
  {
   "cell_type": "code",
   "execution_count": 38,
   "id": "97e517ea-35cb-4526-9a57-3825b33ea031",
   "metadata": {},
   "outputs": [
    {
     "name": "stdout",
     "output_type": "stream",
     "text": [
      "false\n"
     ]
    }
   ],
   "source": [
    "p1.is_unconscientiousness()"
   ]
  },
  {
   "cell_type": "code",
   "execution_count": 41,
   "id": "4ae51d9c-1fb1-4883-9850-bf36b81c11ac",
   "metadata": {},
   "outputs": [
    {
     "name": "stdout",
     "output_type": "stream",
     "text": [
      "true\n"
     ]
    }
   ],
   "source": [
    "p1.is_disagreeableness()"
   ]
  },
  {
   "cell_type": "code",
   "execution_count": 44,
   "id": "fd745348-47ee-48ac-955c-a334fc125c7e",
   "metadata": {},
   "outputs": [
    {
     "name": "stdout",
     "output_type": "stream",
     "text": [
      "false\n"
     ]
    }
   ],
   "source": [
    "p1.is_introvert()"
   ]
  },
  {
   "cell_type": "code",
   "execution_count": 47,
   "id": "55e5f5ad-3a23-4e9b-acc0-6b8ef0b90065",
   "metadata": {},
   "outputs": [
    {
     "name": "stdout",
     "output_type": "stream",
     "text": [
      "true\n"
     ]
    }
   ],
   "source": [
    "p1.is_emotionallystable()"
   ]
  }
 ],
 "metadata": {
  "kernelspec": {
   "display_name": "Python 3 (ipykernel)",
   "language": "python",
   "name": "python3"
  },
  "language_info": {
   "codemirror_mode": {
    "name": "ipython",
    "version": 3
   },
   "file_extension": ".py",
   "mimetype": "text/x-python",
   "name": "python",
   "nbconvert_exporter": "python",
   "pygments_lexer": "ipython3",
   "version": "3.13.5"
  }
 },
 "nbformat": 4,
 "nbformat_minor": 5
}
