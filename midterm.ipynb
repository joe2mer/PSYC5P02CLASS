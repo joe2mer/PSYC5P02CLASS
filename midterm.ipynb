{
 "cells": [
  {
   "cell_type": "markdown",
   "id": "8d7a20c8-b4a1-4cea-adb4-7ebc98a5433f",
   "metadata": {},
   "source": [
    "# Question 1"
   ]
  },
  {
   "cell_type": "code",
   "execution_count": 37,
   "id": "4cb6d433-cf82-4e1f-889c-ab9b8a0dd173",
   "metadata": {},
   "outputs": [],
   "source": [
    "import random\n",
    "import numpy as np"
   ]
  },
  {
   "cell_type": "code",
   "execution_count": 2,
   "id": "3280c2b7-56db-4589-a580-ea90aff014d9",
   "metadata": {},
   "outputs": [],
   "source": [
    "# creates a sample of 15 reaction times ranging from 450 to 700\n",
    "rts = random.sample(range(450, 700), 15)\n"
   ]
  },
  {
   "cell_type": "code",
   "execution_count": 3,
   "id": "022cb369-99a8-409f-a199-af5ae9d3414a",
   "metadata": {},
   "outputs": [
    {
     "data": {
      "text/plain": [
       "[562, 628, 588, 632, 510, 567, 458, 677, 456, 589, 576, 634, 581, 574, 508]"
      ]
     },
     "execution_count": 3,
     "metadata": {},
     "output_type": "execute_result"
    }
   ],
   "source": [
    "rts"
   ]
  },
  {
   "cell_type": "code",
   "execution_count": 38,
   "id": "22bd3c43-659f-48fa-81d2-607674427e4a",
   "metadata": {},
   "outputs": [],
   "source": [
    "# turns the list into an array\n",
    "array_rts = np.array(rts)"
   ]
  },
  {
   "cell_type": "code",
   "execution_count": 114,
   "id": "3a70dcea-6438-4dac-b364-faeafd508307",
   "metadata": {},
   "outputs": [],
   "source": [
    "# creating a function that takes the rts and calculates the mean, std, the fastest and slowest times and prints it to the console\n",
    "def function1(array_rts): \n",
    "    mean, std = array_rts.mean(), array_rts.std() # calculate mean and std\n",
    "    maximum, minimum = max(array_rts), min(array_rts) # use the max and min functions to calculate the fastest and slowest times\n",
    "    print((str(len(rts)) + \" completed\"), mean, std, maximum, minimum) # converts an integer type to a string type and prints the mean, std, maximum and minimum\n",
    "   "
   ]
  },
  {
   "cell_type": "code",
   "execution_count": 115,
   "id": "7f78f2c1-f2d3-43b2-8c71-75ef4ca0f278",
   "metadata": {},
   "outputs": [
    {
     "name": "stdout",
     "output_type": "stream",
     "text": [
      "15 completed 569.3333333333334 61.460737241121855 677 456\n"
     ]
    }
   ],
   "source": [
    "function1(array_rts)"
   ]
  },
  {
   "cell_type": "markdown",
   "id": "f184439c-f96b-4717-b411-28ea93b88037",
   "metadata": {},
   "source": [
    "# Question 2"
   ]
  },
  {
   "cell_type": "code",
   "execution_count": 54,
   "id": "bdcbc13f-84f3-4181-8d20-18b0024edcbf",
   "metadata": {},
   "outputs": [],
   "source": [
    " \n",
    "def cleaned_rts(array_rts): # creating a function \n",
    "    cutoff = 600 # this is our cutoff\n",
    "    original_length = len(array_rts) # calculating the original length\n",
    "    \n",
    "    trimmed_rts = array_rts[(array_rts < cutoff)] # using index slicing determine the trimmed rts\n",
    "\n",
    "    new_length = len(trimmed_rts) # calculate the new length of the trimmed values\n",
    "    \n",
    "    num_excluded = original_length - new_length # calculate number excluded by subtracting the original length from the new length\n",
    "\n",
    "    new_mean = trimmed_rts.mean() # calculate the new mean by taking the trimmed mean\n",
    "\n",
    "    print(num_excluded, new_mean) #print number exlcuded and new mean to the console"
   ]
  },
  {
   "cell_type": "code",
   "execution_count": 55,
   "id": "1afc8c00-bc43-4be0-859a-62409b33bfe2",
   "metadata": {},
   "outputs": [
    {
     "name": "stdout",
     "output_type": "stream",
     "text": [
      "4 542.6363636363636\n"
     ]
    }
   ],
   "source": [
    "cleaned_rts(array_rts)"
   ]
  },
  {
   "cell_type": "markdown",
   "id": "da73c3ed-d3d2-4669-86c0-d917d38da58b",
   "metadata": {},
   "source": [
    "# Question 3"
   ]
  },
  {
   "cell_type": "code",
   "execution_count": 73,
   "id": "577bea22-0e59-4fd1-ba9e-cb948ce3a890",
   "metadata": {},
   "outputs": [],
   "source": [
    "def summarize_rts(array_rts):\n",
    "    mean, std = array_rts.mean(), array_rts.std() #calculate the mean and std \n",
    "    print(len(array_rts), mean, std) # print the number of values, mean, and std\n",
    "    \n",
    "    trimmed_rts = array_rts[(array_rts < cutoff)] #use index slicing to calculate trimmed rts\n",
    "    trimmed_mean = trimmed_rts.mean() # calculate the trimmed mean\n",
    "    \n",
    "    diff_rts = mean - trimmed_mean # calculate the difference in rts\n",
    "    print(\"Trimmed data are faster by \" + str(diff_rts)+ \" ms\") # converts an integer type to a string type and prints the difference in reaction time along with the words\n",
    "    \n"
   ]
  },
  {
   "cell_type": "code",
   "execution_count": 74,
   "id": "d1f6291f-bda4-4338-96ca-b525efe25e32",
   "metadata": {},
   "outputs": [
    {
     "name": "stdout",
     "output_type": "stream",
     "text": [
      "15 569.3333333333334 61.460737241121855\n",
      "Trimmed data are faster by 26.696969696969745 ms\n"
     ]
    }
   ],
   "source": [
    "summarize_rts(array_rts)"
   ]
  },
  {
   "cell_type": "markdown",
   "id": "b255ba0c-0ba1-4e7a-8e1e-86e267bf02ca",
   "metadata": {},
   "source": [
    "# Question 4"
   ]
  },
  {
   "cell_type": "code",
   "execution_count": 78,
   "id": "d2a9e3fa-55d2-4303-93af-b8c2700d5929",
   "metadata": {},
   "outputs": [],
   "source": [
    "# generates multiple reaction times \n",
    "group_rts = random.sample(range(450, 700), 15), random.sample(range(450, 700), 15), random.sample(range(450, 700), 15)"
   ]
  },
  {
   "cell_type": "code",
   "execution_count": 79,
   "id": "ee3a1ea8-4adb-4b80-ab3c-c13b1ce11622",
   "metadata": {},
   "outputs": [],
   "source": [
    "# converts the list to an array\n",
    "array_group = np.array(group_rts)"
   ]
  },
  {
   "cell_type": "code",
   "execution_count": 89,
   "id": "eaa3a4ee-ff93-4871-a5f1-96a3f1895a1b",
   "metadata": {},
   "outputs": [],
   "source": [
    "# calculate the mean of the first participant\n",
    "sub01 = array_group[1].mean()"
   ]
  },
  {
   "cell_type": "code",
   "execution_count": 91,
   "id": "9a1f2a76-af5b-46a3-80d0-214101869798",
   "metadata": {},
   "outputs": [],
   "source": [
    "# calculate the mean of the second participant \n",
    "sub02 = array_group[2].mean()"
   ]
  },
  {
   "cell_type": "code",
   "execution_count": 96,
   "id": "26469d6b-095b-4e31-8c49-3c4f1c42aeaa",
   "metadata": {},
   "outputs": [],
   "source": [
    "# calculate the mean of the third participant\n",
    "sub03 = array_group[0].mean()"
   ]
  },
  {
   "cell_type": "code",
   "execution_count": 97,
   "id": "97882518-7675-4e23-98ad-c9e960d61e96",
   "metadata": {},
   "outputs": [],
   "source": [
    "# create a list of the participants mean\n",
    "participant_mean = [sub01, sub02, sub03]"
   ]
  },
  {
   "cell_type": "code",
   "execution_count": 99,
   "id": "8403c9a7-df76-40e1-80c9-4785c5a13f7c",
   "metadata": {},
   "outputs": [],
   "source": [
    "# convert it to an array\n",
    "array_participant_mean = np.array(participant_mean)"
   ]
  },
  {
   "cell_type": "code",
   "execution_count": 100,
   "id": "f05ac409-480a-455a-8911-ec3c34389937",
   "metadata": {},
   "outputs": [],
   "source": [
    "# calculate the group mean of the three participants \n",
    "group_mean = array_participant_mean.mean()"
   ]
  },
  {
   "cell_type": "code",
   "execution_count": 101,
   "id": "9e106ba1-1854-454f-acdf-c84d11860740",
   "metadata": {},
   "outputs": [
    {
     "data": {
      "text/plain": [
       "np.float64(572.5999999999999)"
      ]
     },
     "execution_count": 101,
     "metadata": {},
     "output_type": "execute_result"
    }
   ],
   "source": [
    "group_mean"
   ]
  },
  {
   "cell_type": "markdown",
   "id": "c5e8a348-18eb-4c13-ae0f-c9743a300521",
   "metadata": {},
   "source": [
    "# Question 5"
   ]
  },
  {
   "cell_type": "code",
   "execution_count": 127,
   "id": "25aca516-f620-4275-b37a-a42cbdf37a98",
   "metadata": {},
   "outputs": [],
   "source": [
    "# create a class with attributes ID and rts \n",
    "class Participant:\n",
    "    def __init__(self, pid, rts): # initialize attributes of every instance of the class \n",
    "        self.pid = pid\n",
    "        self.rts = array_rts\n",
    "\n",
    "    def mean_rts(self): # include a method that returns the mean rts\n",
    "        mean2 = array_rts.mean()\n",
    "        return(mean2)\n",
    "\n",
    "    def add_rt(self): # adds a new rt \n",
    "        new_rts = np.append(array_rts, 505)\n",
    "        return(new_rts)\n",
    "\n",
    "    def num_trials(self): # returns how many trials are present \n",
    "        length = len(new_rts)\n",
    "        return(length) \n",
    "        \n",
    "        "
   ]
  },
  {
   "cell_type": "code",
   "execution_count": 128,
   "id": "a61ea5fd-29aa-4b23-aac2-d97e56c56f9f",
   "metadata": {},
   "outputs": [],
   "source": [
    "S01 = Participant(1, array_rts)"
   ]
  },
  {
   "cell_type": "code",
   "execution_count": 129,
   "id": "16648d1a-da65-44c1-8e9e-255732b992b8",
   "metadata": {},
   "outputs": [
    {
     "data": {
      "text/plain": [
       "<bound method Participant.mean_rts of <__main__.Participant object at 0x000001BE8306D6A0>>"
      ]
     },
     "execution_count": 129,
     "metadata": {},
     "output_type": "execute_result"
    }
   ],
   "source": [
    "S01.mean_rts"
   ]
  },
  {
   "cell_type": "code",
   "execution_count": 126,
   "id": "a770d26c-1453-40dd-92de-2b7559b18df6",
   "metadata": {},
   "outputs": [
    {
     "data": {
      "text/plain": [
       "<bound method Participant.add_rt of <__main__.Participant object at 0x000001BE8306D940>>"
      ]
     },
     "execution_count": 126,
     "metadata": {},
     "output_type": "execute_result"
    }
   ],
   "source": [
    "S01.add_rt"
   ]
  }
 ],
 "metadata": {
  "kernelspec": {
   "display_name": "Python [conda env:base] *",
   "language": "python",
   "name": "conda-base-py"
  },
  "language_info": {
   "codemirror_mode": {
    "name": "ipython",
    "version": 3
   },
   "file_extension": ".py",
   "mimetype": "text/x-python",
   "name": "python",
   "nbconvert_exporter": "python",
   "pygments_lexer": "ipython3",
   "version": "3.13.5"
  }
 },
 "nbformat": 4,
 "nbformat_minor": 5
}
